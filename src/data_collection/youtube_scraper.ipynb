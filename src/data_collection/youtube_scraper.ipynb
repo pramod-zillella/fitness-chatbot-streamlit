{
 "cells": [
  {
   "cell_type": "code",
   "execution_count": 1,
   "metadata": {},
   "outputs": [
    {
     "name": "stderr",
     "output_type": "stream",
     "text": [
      "Processing videos: 100%|██████████| 506/506 [05:14<00:00,  1.61it/s]\n"
     ]
    }
   ],
   "source": [
    "from googleapiclient.discovery import build\n",
    "from youtube_transcript_api import YouTubeTranscriptApi\n",
    "import os\n",
    "from dotenv import load_dotenv\n",
    "import json\n",
    "from tqdm import tqdm\n",
    "\n",
    "load_dotenv()\n",
    "\n",
    "# Set up YouTube API client\n",
    "youtube = build('youtube', 'v3', developerKey=os.getenv('YOUTUBE_API_KEY'))\n",
    "\n",
    "def get_channel_videos(channel_id):\n",
    "    videos = []\n",
    "    request = youtube.search().list(\n",
    "        part='snippet',\n",
    "        channelId=channel_id,\n",
    "        maxResults=50,\n",
    "        type='video'\n",
    "    )\n",
    "    while request:\n",
    "        response = request.execute()\n",
    "        videos.extend(response['items'])\n",
    "        request = youtube.search().list_next(request, response)\n",
    "    return videos\n",
    "\n",
    "def get_video_transcript(video_id):\n",
    "    try:\n",
    "        transcript = YouTubeTranscriptApi.get_transcript(video_id)\n",
    "        return ' '.join([entry['text'] for entry in transcript])\n",
    "    except:\n",
    "        return None\n",
    "\n",
    "def main():\n",
    "    channel_id = 'UCe0TLA0EsQbE-MjuHXevj2A'\n",
    "    videos = get_channel_videos(channel_id)\n",
    "    \n",
    "    # Create data directory if it doesn't exist\n",
    "    os.makedirs('data/raw', exist_ok=True)\n",
    "    \n",
    "    for video in tqdm(videos, desc=\"Processing videos\"):\n",
    "        video_id = video['id']['videoId']\n",
    "        video_data = {\n",
    "            'id': video_id,\n",
    "            'title': video['snippet']['title'],\n",
    "            'description': video['snippet']['description'],\n",
    "            'transcript': get_video_transcript(video_id)\n",
    "        }\n",
    "        \n",
    "        with open(f'data/raw/{video_id}.json', 'w', encoding='utf-8') as f:\n",
    "            json.dump(video_data, f, ensure_ascii=False, indent=4)\n",
    "\n",
    "if __name__ == '__main__':\n",
    "    main()"
   ]
  }
 ],
 "metadata": {
  "kernelspec": {
   "display_name": "venv",
   "language": "python",
   "name": "python3"
  },
  "language_info": {
   "codemirror_mode": {
    "name": "ipython",
    "version": 3
   },
   "file_extension": ".py",
   "mimetype": "text/x-python",
   "name": "python",
   "nbconvert_exporter": "python",
   "pygments_lexer": "ipython3",
   "version": "3.10.0"
  }
 },
 "nbformat": 4,
 "nbformat_minor": 2
}
